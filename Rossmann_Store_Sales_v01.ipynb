{
 "cells": [
  {
   "cell_type": "markdown",
   "id": "d706e915",
   "metadata": {
    "heading_collapsed": true
   },
   "source": [
    "## 0.0 Imports"
   ]
  },
  {
   "cell_type": "code",
   "execution_count": 1,
   "id": "85d3b69f",
   "metadata": {
    "ExecuteTime": {
     "end_time": "2022-03-18T12:33:55.716903Z",
     "start_time": "2022-03-18T12:33:30.131605Z"
    },
    "hidden": true
   },
   "outputs": [],
   "source": [
    "import inflection\n",
    "import math\n",
    "import datetime\n",
    "import pandas as pd\n",
    "import numpy as np\n",
    "import seaborn as sns\n",
    "import matplotlib.pyplot as plt"
   ]
  },
  {
   "cell_type": "markdown",
   "id": "a5622c45",
   "metadata": {
    "hidden": true
   },
   "source": [
    "### 0.1 Loading data"
   ]
  },
  {
   "cell_type": "code",
   "execution_count": 2,
   "id": "edd3380c",
   "metadata": {
    "ExecuteTime": {
     "end_time": "2022-03-18T12:33:58.005938Z",
     "start_time": "2022-03-18T12:33:55.721879Z"
    },
    "hidden": true
   },
   "outputs": [],
   "source": [
    "df_sales_raw = pd.read_csv('C:/Users/gabriel.pinho/Repos/Rossmann-Store-Sales/Date/train.csv',low_memory = False)\n",
    "df_store_raw = pd.read_csv('C:/Users/gabriel.pinho/Repos/Rossmann-Store-Sales/Date/store.csv',low_memory = False)\n",
    "\n",
    "#merge\n",
    "\n",
    "df_raw = pd.merge(df_sales_raw,df_store_raw,how='left',on='Store')"
   ]
  },
  {
   "cell_type": "code",
   "execution_count": 3,
   "id": "c7a4158b",
   "metadata": {
    "ExecuteTime": {
     "end_time": "2022-03-18T12:33:58.304912Z",
     "start_time": "2022-03-18T12:33:58.014922Z"
    },
    "hidden": true
   },
   "outputs": [
    {
     "data": {
      "text/html": [
       "<div>\n",
       "<style scoped>\n",
       "    .dataframe tbody tr th:only-of-type {\n",
       "        vertical-align: middle;\n",
       "    }\n",
       "\n",
       "    .dataframe tbody tr th {\n",
       "        vertical-align: top;\n",
       "    }\n",
       "\n",
       "    .dataframe thead th {\n",
       "        text-align: right;\n",
       "    }\n",
       "</style>\n",
       "<table border=\"1\" class=\"dataframe\">\n",
       "  <thead>\n",
       "    <tr style=\"text-align: right;\">\n",
       "      <th></th>\n",
       "      <th>220910</th>\n",
       "    </tr>\n",
       "  </thead>\n",
       "  <tbody>\n",
       "    <tr>\n",
       "      <th>Store</th>\n",
       "      <td>141</td>\n",
       "    </tr>\n",
       "    <tr>\n",
       "      <th>DayOfWeek</th>\n",
       "      <td>3</td>\n",
       "    </tr>\n",
       "    <tr>\n",
       "      <th>Date</th>\n",
       "      <td>2015-01-14</td>\n",
       "    </tr>\n",
       "    <tr>\n",
       "      <th>Sales</th>\n",
       "      <td>5652</td>\n",
       "    </tr>\n",
       "    <tr>\n",
       "      <th>Customers</th>\n",
       "      <td>577</td>\n",
       "    </tr>\n",
       "    <tr>\n",
       "      <th>Open</th>\n",
       "      <td>1</td>\n",
       "    </tr>\n",
       "    <tr>\n",
       "      <th>Promo</th>\n",
       "      <td>1</td>\n",
       "    </tr>\n",
       "    <tr>\n",
       "      <th>StateHoliday</th>\n",
       "      <td>0</td>\n",
       "    </tr>\n",
       "    <tr>\n",
       "      <th>SchoolHoliday</th>\n",
       "      <td>0</td>\n",
       "    </tr>\n",
       "    <tr>\n",
       "      <th>StoreType</th>\n",
       "      <td>c</td>\n",
       "    </tr>\n",
       "    <tr>\n",
       "      <th>Assortment</th>\n",
       "      <td>c</td>\n",
       "    </tr>\n",
       "    <tr>\n",
       "      <th>CompetitionDistance</th>\n",
       "      <td>1540.0</td>\n",
       "    </tr>\n",
       "    <tr>\n",
       "      <th>CompetitionOpenSinceMonth</th>\n",
       "      <td>NaN</td>\n",
       "    </tr>\n",
       "    <tr>\n",
       "      <th>CompetitionOpenSinceYear</th>\n",
       "      <td>NaN</td>\n",
       "    </tr>\n",
       "    <tr>\n",
       "      <th>Promo2</th>\n",
       "      <td>1</td>\n",
       "    </tr>\n",
       "    <tr>\n",
       "      <th>Promo2SinceWeek</th>\n",
       "      <td>22.0</td>\n",
       "    </tr>\n",
       "    <tr>\n",
       "      <th>Promo2SinceYear</th>\n",
       "      <td>2012.0</td>\n",
       "    </tr>\n",
       "    <tr>\n",
       "      <th>PromoInterval</th>\n",
       "      <td>Mar,Jun,Sept,Dec</td>\n",
       "    </tr>\n",
       "  </tbody>\n",
       "</table>\n",
       "</div>"
      ],
      "text/plain": [
       "                                     220910\n",
       "Store                                   141\n",
       "DayOfWeek                                 3\n",
       "Date                             2015-01-14\n",
       "Sales                                  5652\n",
       "Customers                               577\n",
       "Open                                      1\n",
       "Promo                                     1\n",
       "StateHoliday                              0\n",
       "SchoolHoliday                             0\n",
       "StoreType                                 c\n",
       "Assortment                                c\n",
       "CompetitionDistance                  1540.0\n",
       "CompetitionOpenSinceMonth               NaN\n",
       "CompetitionOpenSinceYear                NaN\n",
       "Promo2                                    1\n",
       "Promo2SinceWeek                        22.0\n",
       "Promo2SinceYear                      2012.0\n",
       "PromoInterval              Mar,Jun,Sept,Dec"
      ]
     },
     "execution_count": 3,
     "metadata": {},
     "output_type": "execute_result"
    }
   ],
   "source": [
    "df_raw.sample().T"
   ]
  },
  {
   "cell_type": "markdown",
   "id": "4d89a071",
   "metadata": {
    "hidden": true
   },
   "source": [
    "### 0.2 Help functions"
   ]
  },
  {
   "cell_type": "code",
   "execution_count": null,
   "id": "72cb0e30",
   "metadata": {
    "hidden": true
   },
   "outputs": [],
   "source": []
  },
  {
   "cell_type": "markdown",
   "id": "a210009b",
   "metadata": {
    "heading_collapsed": true
   },
   "source": [
    "## 1.0 Description of data"
   ]
  },
  {
   "cell_type": "code",
   "execution_count": 4,
   "id": "390b85cc",
   "metadata": {
    "ExecuteTime": {
     "end_time": "2022-03-18T12:33:58.415797Z",
     "start_time": "2022-03-18T12:33:58.307905Z"
    },
    "hidden": true
   },
   "outputs": [],
   "source": [
    "df1 = df_raw.copy()"
   ]
  },
  {
   "cell_type": "markdown",
   "id": "6ae0bb02",
   "metadata": {
    "hidden": true
   },
   "source": [
    "### 1.1 Rename columns"
   ]
  },
  {
   "cell_type": "code",
   "execution_count": 5,
   "id": "218b1a3d",
   "metadata": {
    "ExecuteTime": {
     "end_time": "2022-03-18T12:33:58.445738Z",
     "start_time": "2022-03-18T12:33:58.421770Z"
    },
    "hidden": true
   },
   "outputs": [
    {
     "data": {
      "text/plain": [
       "Index(['Store', 'DayOfWeek', 'Date', 'Sales', 'Customers', 'Open', 'Promo',\n",
       "       'StateHoliday', 'SchoolHoliday', 'StoreType', 'Assortment',\n",
       "       'CompetitionDistance', 'CompetitionOpenSinceMonth',\n",
       "       'CompetitionOpenSinceYear', 'Promo2', 'Promo2SinceWeek',\n",
       "       'Promo2SinceYear', 'PromoInterval'],\n",
       "      dtype='object')"
      ]
     },
     "execution_count": 5,
     "metadata": {},
     "output_type": "execute_result"
    }
   ],
   "source": [
    "df1.columns"
   ]
  },
  {
   "cell_type": "code",
   "execution_count": 6,
   "id": "06415fa5",
   "metadata": {
    "ExecuteTime": {
     "end_time": "2022-03-18T12:33:58.539056Z",
     "start_time": "2022-03-18T12:33:58.450693Z"
    },
    "hidden": true
   },
   "outputs": [],
   "source": [
    "cols_old = ['Store', 'DayOfWeek', 'Date', 'Sales', 'Customers', 'Open', 'Promo',\n",
    "           'StateHoliday', 'SchoolHoliday', 'StoreType', 'Assortment',\n",
    "           'CompetitionDistance', 'CompetitionOpenSinceMonth',\n",
    "           'CompetitionOpenSinceYear', 'Promo2', 'Promo2SinceWeek','Promo2SinceYear', 'PromoInterval']\n",
    "\n",
    "# Ponto de estudo!\n",
    "\n",
    "snakecase = lambda x: inflection.underscore(x)\n",
    "\n",
    "cols_new = list(map(snakecase,cols_old))\n",
    "\n",
    "df1.columns = cols_new"
   ]
  },
  {
   "cell_type": "markdown",
   "id": "90339585",
   "metadata": {
    "hidden": true
   },
   "source": [
    "### 1.2 Dimensions"
   ]
  },
  {
   "cell_type": "code",
   "execution_count": 7,
   "id": "dbd90a44",
   "metadata": {
    "ExecuteTime": {
     "end_time": "2022-03-18T12:33:58.633401Z",
     "start_time": "2022-03-18T12:33:58.547958Z"
    },
    "hidden": true
   },
   "outputs": [
    {
     "name": "stdout",
     "output_type": "stream",
     "text": [
      "number of rows:1017209\n",
      "number of cols:18\n"
     ]
    }
   ],
   "source": [
    "print('number of rows:{}'.format(df1.shape[0]))\n",
    "print('number of cols:{}'.format(df1.shape[1]))"
   ]
  },
  {
   "cell_type": "markdown",
   "id": "346dbf5c",
   "metadata": {
    "hidden": true
   },
   "source": [
    "### 1.3 Data types"
   ]
  },
  {
   "cell_type": "code",
   "execution_count": 8,
   "id": "98d378c2",
   "metadata": {
    "ExecuteTime": {
     "end_time": "2022-03-18T12:33:58.949441Z",
     "start_time": "2022-03-18T12:33:58.636394Z"
    },
    "hidden": true
   },
   "outputs": [
    {
     "data": {
      "text/plain": [
       "store                                    int64\n",
       "day_of_week                              int64\n",
       "date                            datetime64[ns]\n",
       "sales                                    int64\n",
       "customers                                int64\n",
       "open                                     int64\n",
       "promo                                    int64\n",
       "state_holiday                           object\n",
       "school_holiday                           int64\n",
       "store_type                              object\n",
       "assortment                              object\n",
       "competition_distance                   float64\n",
       "competition_open_since_month           float64\n",
       "competition_open_since_year            float64\n",
       "promo2                                   int64\n",
       "promo2_since_week                      float64\n",
       "promo2_since_year                      float64\n",
       "promo_interval                          object\n",
       "dtype: object"
      ]
     },
     "execution_count": 8,
     "metadata": {},
     "output_type": "execute_result"
    }
   ],
   "source": [
    "df1['date'] = pd.to_datetime(df1['date'])\n",
    "df1.dtypes"
   ]
  },
  {
   "cell_type": "markdown",
   "id": "5bad79c1",
   "metadata": {
    "hidden": true
   },
   "source": [
    "### 1.4 Check NAN"
   ]
  },
  {
   "cell_type": "code",
   "execution_count": 9,
   "id": "50a7f415",
   "metadata": {
    "ExecuteTime": {
     "end_time": "2022-03-18T12:33:59.663604Z",
     "start_time": "2022-03-18T12:33:58.954372Z"
    },
    "hidden": true
   },
   "outputs": [
    {
     "data": {
      "text/plain": [
       "store                                0\n",
       "day_of_week                          0\n",
       "date                                 0\n",
       "sales                                0\n",
       "customers                            0\n",
       "open                                 0\n",
       "promo                                0\n",
       "state_holiday                        0\n",
       "school_holiday                       0\n",
       "store_type                           0\n",
       "assortment                           0\n",
       "competition_distance              2642\n",
       "competition_open_since_month    323348\n",
       "competition_open_since_year     323348\n",
       "promo2                               0\n",
       "promo2_since_week               508031\n",
       "promo2_since_year               508031\n",
       "promo_interval                  508031\n",
       "dtype: int64"
      ]
     },
     "execution_count": 9,
     "metadata": {},
     "output_type": "execute_result"
    }
   ],
   "source": [
    "df1.isna().sum()"
   ]
  },
  {
   "cell_type": "markdown",
   "id": "f0148214",
   "metadata": {
    "hidden": true
   },
   "source": [
    "### 1.5 Fillout NA"
   ]
  },
  {
   "cell_type": "code",
   "execution_count": 10,
   "id": "1b14c20f",
   "metadata": {
    "ExecuteTime": {
     "end_time": "2022-03-18T12:35:23.914768Z",
     "start_time": "2022-03-18T12:33:59.665598Z"
    },
    "hidden": true
   },
   "outputs": [
    {
     "data": {
      "text/plain": [
       "store                           0\n",
       "day_of_week                     0\n",
       "date                            0\n",
       "sales                           0\n",
       "customers                       0\n",
       "open                            0\n",
       "promo                           0\n",
       "state_holiday                   0\n",
       "school_holiday                  0\n",
       "store_type                      0\n",
       "assortment                      0\n",
       "competition_distance            0\n",
       "competition_open_since_month    0\n",
       "competition_open_since_year     0\n",
       "promo2                          0\n",
       "promo2_since_week               0\n",
       "promo2_since_year               0\n",
       "promo_interval                  0\n",
       "month_map                       0\n",
       "is_promo                        0\n",
       "dtype: int64"
      ]
     },
     "execution_count": 10,
     "metadata": {},
     "output_type": "execute_result"
    }
   ],
   "source": [
    "#competition_distance\n",
    "# Ponto de estudo\n",
    "\n",
    "df1['competition_distance'] = df1['competition_distance'].apply(lambda x: 200000.0 if math.isnan(x) else x)\n",
    "\n",
    "#competition_open_since_month\n",
    "\n",
    "df1['competition_open_since_month'] = df1.apply(lambda x: x['date'].month if math.isnan(x['competition_open_since_month']) else x['competition_open_since_month'], axis = 1)\n",
    "\n",
    "#competition_open_since_year\n",
    "\n",
    "df1['competition_open_since_year'] = df1.apply(lambda x: x['date'].year if math.isnan(x['competition_open_since_year']) else x['competition_open_since_year'],axis = 1)\n",
    "\n",
    "#promo2_since_week\n",
    "                                               \n",
    "df1['promo2_since_week'] = df1.apply(lambda x: x['date'].week if math.isnan(x['promo2_since_week']) else x['promo2_since_week'],axis = 1)\n",
    "\n",
    "#promo2_since_year                                      \n",
    " \n",
    "df1['promo2_since_year'] = df1.apply(lambda x: x['date'].year if math.isnan(x['promo2_since_year']) else x['promo2_since_year'],axis = 1)\n",
    "\n",
    "#promo_interval\n",
    "\n",
    "month_map = {1: 'Jan',2: 'Fev',3: 'Mar',4: 'Apr',5: 'May',6: 'Jun',7: 'Jul',8: 'Aug',9: 'Sep',10: 'Oct',11: 'Nov',12: 'Dec'}\n",
    "\n",
    "df1['promo_interval'].fillna(0,inplace = True)\n",
    "\n",
    "#ponto de estudo - função map\n",
    "\n",
    "df1['month_map'] = df1['date'].dt.month.map(month_map)\n",
    "\n",
    "#ponto de estudo - função split\n",
    "\n",
    "df1['is_promo'] = df1[['promo_interval','month_map']].apply(lambda x: 0 if x['promo_interval'] == 0 else 1 if x['month_map'] in x['promo_interval'].split(',') else 0,axis = 1)\n",
    "\n",
    "df1.isna().sum().T"
   ]
  },
  {
   "cell_type": "markdown",
   "id": "1086629f",
   "metadata": {
    "hidden": true
   },
   "source": [
    "### 1.6 Change types"
   ]
  },
  {
   "cell_type": "code",
   "execution_count": 11,
   "id": "0a457637",
   "metadata": {
    "ExecuteTime": {
     "end_time": "2022-03-18T12:35:23.946685Z",
     "start_time": "2022-03-18T12:35:23.918757Z"
    },
    "hidden": true
   },
   "outputs": [
    {
     "data": {
      "text/plain": [
       "store                                    int64\n",
       "day_of_week                              int64\n",
       "date                            datetime64[ns]\n",
       "sales                                    int64\n",
       "customers                                int64\n",
       "open                                     int64\n",
       "promo                                    int64\n",
       "state_holiday                           object\n",
       "school_holiday                           int64\n",
       "store_type                              object\n",
       "assortment                              object\n",
       "competition_distance                   float64\n",
       "competition_open_since_month           float64\n",
       "competition_open_since_year            float64\n",
       "promo2                                   int64\n",
       "promo2_since_week                      float64\n",
       "promo2_since_year                      float64\n",
       "promo_interval                          object\n",
       "month_map                               object\n",
       "is_promo                                 int64\n",
       "dtype: object"
      ]
     },
     "execution_count": 11,
     "metadata": {},
     "output_type": "execute_result"
    }
   ],
   "source": [
    "df1.dtypes"
   ]
  },
  {
   "cell_type": "code",
   "execution_count": 12,
   "id": "06b72221",
   "metadata": {
    "ExecuteTime": {
     "end_time": "2022-03-18T12:35:24.134742Z",
     "start_time": "2022-03-18T12:35:23.949674Z"
    },
    "hidden": true
   },
   "outputs": [],
   "source": [
    "#competition_open_since_month\n",
    "\n",
    "df1['competition_open_since_month'] = df1['competition_open_since_month'].astype(np.int64)\n",
    "\n",
    "#competition_open_since_year\n",
    "\n",
    "df1['competition_open_since_year'] = df1['competition_open_since_year'].astype(np.int64)\n",
    "\n",
    "#promo2_since_week\n",
    "\n",
    "df1['promo2_since_week'] = df1['promo2_since_week'].astype(np.int64)\n",
    "\n",
    "#promo2_since_year\n",
    "\n",
    "df1['promo2_since_year'] = df1['promo2_since_year'].astype(np.int64)"
   ]
  },
  {
   "cell_type": "markdown",
   "id": "203724b9",
   "metadata": {
    "hidden": true
   },
   "source": [
    "### 1.7 Descriptive Statistical"
   ]
  },
  {
   "cell_type": "code",
   "execution_count": 13,
   "id": "e9a3e41d",
   "metadata": {
    "ExecuteTime": {
     "end_time": "2022-03-18T12:35:24.228367Z",
     "start_time": "2022-03-18T12:35:24.139731Z"
    },
    "hidden": true
   },
   "outputs": [],
   "source": [
    "num_attributes = df1.select_dtypes(include = ['int64','float64'])\n",
    "cat_attributes = df1.select_dtypes(exclude = ['int64','float64','datetime64[ns]'])"
   ]
  },
  {
   "cell_type": "markdown",
   "id": "7ace5357",
   "metadata": {
    "hidden": true
   },
   "source": [
    "#### 1.7.1 Numerical attributes"
   ]
  },
  {
   "cell_type": "code",
   "execution_count": 14,
   "id": "476c1591",
   "metadata": {
    "ExecuteTime": {
     "end_time": "2022-03-18T12:35:27.817759Z",
     "start_time": "2022-03-18T12:35:24.231361Z"
    },
    "hidden": true
   },
   "outputs": [
    {
     "data": {
      "text/html": [
       "<div>\n",
       "<style scoped>\n",
       "    .dataframe tbody tr th:only-of-type {\n",
       "        vertical-align: middle;\n",
       "    }\n",
       "\n",
       "    .dataframe tbody tr th {\n",
       "        vertical-align: top;\n",
       "    }\n",
       "\n",
       "    .dataframe thead th {\n",
       "        text-align: right;\n",
       "    }\n",
       "</style>\n",
       "<table border=\"1\" class=\"dataframe\">\n",
       "  <thead>\n",
       "    <tr style=\"text-align: right;\">\n",
       "      <th></th>\n",
       "      <th>Features</th>\n",
       "      <th>Max</th>\n",
       "      <th>Min</th>\n",
       "      <th>Range</th>\n",
       "      <th>Mean</th>\n",
       "      <th>Median</th>\n",
       "      <th>Std</th>\n",
       "      <th>Skew</th>\n",
       "      <th>Kurtosis</th>\n",
       "    </tr>\n",
       "  </thead>\n",
       "  <tbody>\n",
       "    <tr>\n",
       "      <th>0</th>\n",
       "      <td>store</td>\n",
       "      <td>1115.0</td>\n",
       "      <td>1.0</td>\n",
       "      <td>1114.0</td>\n",
       "      <td>558.429727</td>\n",
       "      <td>558.0</td>\n",
       "      <td>321.908493</td>\n",
       "      <td>-0.000955</td>\n",
       "      <td>-1.200524</td>\n",
       "    </tr>\n",
       "    <tr>\n",
       "      <th>1</th>\n",
       "      <td>day_of_week</td>\n",
       "      <td>7.0</td>\n",
       "      <td>1.0</td>\n",
       "      <td>6.0</td>\n",
       "      <td>3.998341</td>\n",
       "      <td>4.0</td>\n",
       "      <td>1.997390</td>\n",
       "      <td>0.001593</td>\n",
       "      <td>-1.246873</td>\n",
       "    </tr>\n",
       "    <tr>\n",
       "      <th>2</th>\n",
       "      <td>sales</td>\n",
       "      <td>41551.0</td>\n",
       "      <td>0.0</td>\n",
       "      <td>41551.0</td>\n",
       "      <td>5773.818972</td>\n",
       "      <td>5744.0</td>\n",
       "      <td>3849.924283</td>\n",
       "      <td>0.641460</td>\n",
       "      <td>1.778375</td>\n",
       "    </tr>\n",
       "    <tr>\n",
       "      <th>3</th>\n",
       "      <td>customers</td>\n",
       "      <td>7388.0</td>\n",
       "      <td>0.0</td>\n",
       "      <td>7388.0</td>\n",
       "      <td>633.145946</td>\n",
       "      <td>609.0</td>\n",
       "      <td>464.411506</td>\n",
       "      <td>1.598650</td>\n",
       "      <td>7.091773</td>\n",
       "    </tr>\n",
       "    <tr>\n",
       "      <th>4</th>\n",
       "      <td>open</td>\n",
       "      <td>1.0</td>\n",
       "      <td>0.0</td>\n",
       "      <td>1.0</td>\n",
       "      <td>0.830107</td>\n",
       "      <td>1.0</td>\n",
       "      <td>0.375539</td>\n",
       "      <td>-1.758045</td>\n",
       "      <td>1.090723</td>\n",
       "    </tr>\n",
       "    <tr>\n",
       "      <th>5</th>\n",
       "      <td>promo</td>\n",
       "      <td>1.0</td>\n",
       "      <td>0.0</td>\n",
       "      <td>1.0</td>\n",
       "      <td>0.381515</td>\n",
       "      <td>0.0</td>\n",
       "      <td>0.485758</td>\n",
       "      <td>0.487838</td>\n",
       "      <td>-1.762018</td>\n",
       "    </tr>\n",
       "    <tr>\n",
       "      <th>6</th>\n",
       "      <td>school_holiday</td>\n",
       "      <td>1.0</td>\n",
       "      <td>0.0</td>\n",
       "      <td>1.0</td>\n",
       "      <td>0.178647</td>\n",
       "      <td>0.0</td>\n",
       "      <td>0.383056</td>\n",
       "      <td>1.677842</td>\n",
       "      <td>0.815154</td>\n",
       "    </tr>\n",
       "    <tr>\n",
       "      <th>7</th>\n",
       "      <td>competition_distance</td>\n",
       "      <td>200000.0</td>\n",
       "      <td>20.0</td>\n",
       "      <td>199980.0</td>\n",
       "      <td>5935.442677</td>\n",
       "      <td>2330.0</td>\n",
       "      <td>12547.646829</td>\n",
       "      <td>10.242344</td>\n",
       "      <td>147.789712</td>\n",
       "    </tr>\n",
       "    <tr>\n",
       "      <th>8</th>\n",
       "      <td>competition_open_since_month</td>\n",
       "      <td>12.0</td>\n",
       "      <td>1.0</td>\n",
       "      <td>11.0</td>\n",
       "      <td>6.786849</td>\n",
       "      <td>7.0</td>\n",
       "      <td>3.311085</td>\n",
       "      <td>-0.042076</td>\n",
       "      <td>-1.232607</td>\n",
       "    </tr>\n",
       "    <tr>\n",
       "      <th>9</th>\n",
       "      <td>competition_open_since_year</td>\n",
       "      <td>2015.0</td>\n",
       "      <td>1900.0</td>\n",
       "      <td>115.0</td>\n",
       "      <td>2010.324840</td>\n",
       "      <td>2012.0</td>\n",
       "      <td>5.515591</td>\n",
       "      <td>-7.235657</td>\n",
       "      <td>124.071304</td>\n",
       "    </tr>\n",
       "    <tr>\n",
       "      <th>10</th>\n",
       "      <td>promo2</td>\n",
       "      <td>1.0</td>\n",
       "      <td>0.0</td>\n",
       "      <td>1.0</td>\n",
       "      <td>0.500564</td>\n",
       "      <td>1.0</td>\n",
       "      <td>0.500000</td>\n",
       "      <td>-0.002255</td>\n",
       "      <td>-1.999999</td>\n",
       "    </tr>\n",
       "    <tr>\n",
       "      <th>11</th>\n",
       "      <td>promo2_since_week</td>\n",
       "      <td>52.0</td>\n",
       "      <td>1.0</td>\n",
       "      <td>51.0</td>\n",
       "      <td>23.619033</td>\n",
       "      <td>22.0</td>\n",
       "      <td>14.310057</td>\n",
       "      <td>0.178723</td>\n",
       "      <td>-1.184046</td>\n",
       "    </tr>\n",
       "    <tr>\n",
       "      <th>12</th>\n",
       "      <td>promo2_since_year</td>\n",
       "      <td>2015.0</td>\n",
       "      <td>2009.0</td>\n",
       "      <td>6.0</td>\n",
       "      <td>2012.793297</td>\n",
       "      <td>2013.0</td>\n",
       "      <td>1.662657</td>\n",
       "      <td>-0.784436</td>\n",
       "      <td>-0.210075</td>\n",
       "    </tr>\n",
       "    <tr>\n",
       "      <th>13</th>\n",
       "      <td>is_promo</td>\n",
       "      <td>1.0</td>\n",
       "      <td>0.0</td>\n",
       "      <td>1.0</td>\n",
       "      <td>0.155231</td>\n",
       "      <td>0.0</td>\n",
       "      <td>0.362124</td>\n",
       "      <td>1.904152</td>\n",
       "      <td>1.625796</td>\n",
       "    </tr>\n",
       "  </tbody>\n",
       "</table>\n",
       "</div>"
      ],
      "text/plain": [
       "                        Features       Max     Min     Range         Mean  \\\n",
       "0                          store    1115.0     1.0    1114.0   558.429727   \n",
       "1                    day_of_week       7.0     1.0       6.0     3.998341   \n",
       "2                          sales   41551.0     0.0   41551.0  5773.818972   \n",
       "3                      customers    7388.0     0.0    7388.0   633.145946   \n",
       "4                           open       1.0     0.0       1.0     0.830107   \n",
       "5                          promo       1.0     0.0       1.0     0.381515   \n",
       "6                 school_holiday       1.0     0.0       1.0     0.178647   \n",
       "7           competition_distance  200000.0    20.0  199980.0  5935.442677   \n",
       "8   competition_open_since_month      12.0     1.0      11.0     6.786849   \n",
       "9    competition_open_since_year    2015.0  1900.0     115.0  2010.324840   \n",
       "10                        promo2       1.0     0.0       1.0     0.500564   \n",
       "11             promo2_since_week      52.0     1.0      51.0    23.619033   \n",
       "12             promo2_since_year    2015.0  2009.0       6.0  2012.793297   \n",
       "13                      is_promo       1.0     0.0       1.0     0.155231   \n",
       "\n",
       "    Median           Std       Skew    Kurtosis  \n",
       "0    558.0    321.908493  -0.000955   -1.200524  \n",
       "1      4.0      1.997390   0.001593   -1.246873  \n",
       "2   5744.0   3849.924283   0.641460    1.778375  \n",
       "3    609.0    464.411506   1.598650    7.091773  \n",
       "4      1.0      0.375539  -1.758045    1.090723  \n",
       "5      0.0      0.485758   0.487838   -1.762018  \n",
       "6      0.0      0.383056   1.677842    0.815154  \n",
       "7   2330.0  12547.646829  10.242344  147.789712  \n",
       "8      7.0      3.311085  -0.042076   -1.232607  \n",
       "9   2012.0      5.515591  -7.235657  124.071304  \n",
       "10     1.0      0.500000  -0.002255   -1.999999  \n",
       "11    22.0     14.310057   0.178723   -1.184046  \n",
       "12  2013.0      1.662657  -0.784436   -0.210075  \n",
       "13     0.0      0.362124   1.904152    1.625796  "
      ]
     },
     "execution_count": 14,
     "metadata": {},
     "output_type": "execute_result"
    }
   ],
   "source": [
    "#central tendency - mean and median\n",
    "\n",
    "ct1 = pd.DataFrame(num_attributes.apply(np.mean)).T\n",
    "\n",
    "ct2 = pd.DataFrame(num_attributes.apply(np.median)).T\n",
    "\n",
    "#dispersion tendency - max, min, range, std, skew, kurtosis\n",
    "\n",
    "d1 = pd.DataFrame(num_attributes.apply(np.std)).T\n",
    "\n",
    "d2 = pd.DataFrame(num_attributes.apply(max)).T\n",
    "\n",
    "d3 = pd.DataFrame(num_attributes.apply(min)).T\n",
    "\n",
    "d4 = pd.DataFrame(num_attributes.apply(lambda x: x.max() - x.min())).T\n",
    "\n",
    "d5 = pd.DataFrame(num_attributes.apply(lambda x: x.skew())).T\n",
    "\n",
    "d6 = pd.DataFrame(num_attributes.apply(lambda x: x.kurtosis())).T\n",
    "\n",
    "#concatenate\n",
    "\n",
    "m = pd.concat([d2,d3,d4,ct1,ct2,d1,d5,d6]).T.reset_index()\n",
    "m.columns = ['Features','Max','Min','Range','Mean','Median','Std','Skew','Kurtosis']\n",
    "m"
   ]
  },
  {
   "cell_type": "markdown",
   "id": "55c0410b",
   "metadata": {
    "hidden": true
   },
   "source": [
    "#### 1.7.2 Categorical attributes"
   ]
  },
  {
   "cell_type": "code",
   "execution_count": 15,
   "id": "3bbdbc43",
   "metadata": {
    "ExecuteTime": {
     "end_time": "2022-03-18T12:35:28.085124Z",
     "start_time": "2022-03-18T12:35:27.820753Z"
    },
    "hidden": true
   },
   "outputs": [
    {
     "data": {
      "text/plain": [
       "state_holiday      4\n",
       "store_type         4\n",
       "assortment         3\n",
       "promo_interval     4\n",
       "month_map         12\n",
       "dtype: int64"
      ]
     },
     "execution_count": 15,
     "metadata": {},
     "output_type": "execute_result"
    }
   ],
   "source": [
    "cat_attributes.apply(lambda x: x.unique().shape[0])"
   ]
  },
  {
   "cell_type": "code",
   "execution_count": 16,
   "id": "4e6f32ff",
   "metadata": {
    "ExecuteTime": {
     "end_time": "2022-03-18T12:35:29.724193Z",
     "start_time": "2022-03-18T12:35:28.090100Z"
    },
    "hidden": true
   },
   "outputs": [
    {
     "data": {
      "text/plain": [
       "<AxesSubplot:xlabel='assortment', ylabel='sales'>"
      ]
     },
     "execution_count": 16,
     "metadata": {},
     "output_type": "execute_result"
    },
    {
     "data": {
      "image/png": "[encoded data removed]",
      "text/plain": [
       "<Figure size 1800x720 with 3 Axes>"
      ]
     },
     "metadata": {
      "needs_background": "light"
     },
     "output_type": "display_data"
    }
   ],
   "source": [
    "aux1 = df1[(df1['state_holiday'] != '0') & (df1['sales'] > 0)]\n",
    "\n",
    "plt.figure(figsize = (25,10))\n",
    "\n",
    "plt.subplot(1, 3, 1)\n",
    "sns.boxplot(x = 'state_holiday',y = 'sales',data = aux1)\n",
    "\n",
    "plt.subplot(1, 3, 2)\n",
    "sns.boxplot(x = 'store_type',y = 'sales',data = aux1)\n",
    "\n",
    "plt.subplot(1, 3, 3)\n",
    "sns.boxplot(x = 'assortment',y = 'sales',data = aux1)"
   ]
  },
  {
   "cell_type": "markdown",
   "id": "f2337533",
   "metadata": {
    "heading_collapsed": true
   },
   "source": [
    "## 2.0 Mind Map"
   ]
  },
  {
   "cell_type": "code",
   "execution_count": 17,
   "id": "2c901280",
   "metadata": {
    "ExecuteTime": {
     "end_time": "2022-03-18T12:35:29.832903Z",
     "start_time": "2022-03-18T12:35:29.727186Z"
    },
    "hidden": true
   },
   "outputs": [],
   "source": [
    "df2 = df1.copy()"
   ]
  },
  {
   "cell_type": "markdown",
   "id": "83bc8b45",
   "metadata": {
    "hidden": true
   },
   "source": [
    "### 2.1 Hypotesis creation"
   ]
  },
  {
   "cell_type": "markdown",
   "id": "75710f19",
   "metadata": {
    "hidden": true
   },
   "source": [
    "#### 2.1.1 Store hypotesis"
   ]
  },
  {
   "cell_type": "markdown",
   "id": "1fbedbf6",
   "metadata": {
    "ExecuteTime": {
     "end_time": "2022-03-18T12:25:56.400646Z",
     "start_time": "2022-03-18T12:25:56.386681Z"
    },
    "hidden": true
   },
   "source": [
    "**1.** Lojas com maior quadro de funcionários deveriam vender mais\n",
    "\n",
    "**2.** Lojas com maior estoque deveriam vender mais.\n",
    "\n",
    "**3.** Lojas com maior porte deveriam vender mais.\n",
    "\n",
    "**4.** Lojas com menor estoque deveriam vender menos.\n",
    "\n",
    "**5.** Lojas com maior sortimento deveriam vender mais.\n",
    "\n",
    "**6.** Lojas com competidores mais próximos deveriam vender menos.\n",
    "\n",
    "**7.** Lojas com competidores a mais tempo deveriam vender mais."
   ]
  },
  {
   "cell_type": "markdown",
   "id": "139e4e38",
   "metadata": {
    "hidden": true
   },
   "source": [
    "#### 2.1.2 Product hypotesis"
   ]
  },
  {
   "cell_type": "markdown",
   "id": "ca69ead0",
   "metadata": {
    "hidden": true
   },
   "source": [
    "**1.** Lojas que investem mais em marketing deveriam vender mais.\n",
    "\n",
    "**2.** Lojas que expoem mais o produto nas vitrines deveriam vender mais.\n",
    "\n",
    "**3.** Lojas que tem preços menores nos produtos deveriam vender mais.\n",
    "\n",
    "**4.** Lojas que tem preços menores por mais tempo deveriam vender mais.\n",
    "\n",
    "**5.** Lojas com promoções ativa por mais tempo deveriam vender mais.\n",
    "\n",
    "**6.** Lojas com mais dia de promoção deveriam vender mais.\n",
    "\n",
    "**7.** Lojas com mais promoções consecutivas deveriam vender mais."
   ]
  },
  {
   "cell_type": "markdown",
   "id": "bf0d9d56",
   "metadata": {
    "hidden": true
   },
   "source": [
    "#### 2.1.3 Time hypotesis"
   ]
  },
  {
   "cell_type": "markdown",
   "id": "5c225fcf",
   "metadata": {
    "hidden": true
   },
   "source": [
    "**1.** Lojas que tem mais feriados deveriam vender menos.\n",
    "\n",
    "**2.** Lojas que abrem nos primeiros 06 meses deveriam vender mais.\n",
    "\n",
    "**3.** Lojas que abrem nos finais de semana deveriam vender mais.\n",
    "\n",
    "**4.** Lojas abertas durante o feriado de natal deveriam vender mais.\n",
    "\n",
    "**5.** Lojas deveriam vender mais ao longo dos anos.\n",
    "\n",
    "**6.** Lojas devriam vender mais no segundo semestre do ano.\n",
    "\n",
    "**7.** Lojas deveriam vender mais depois do dia 10 de cada mês.\n",
    "\n",
    "**8.** Lojas deveriam vender menos aos finais de semana.\n",
    "\n",
    "**9.** Lojas deveriam vender menos durante os feriados escolares."
   ]
  },
  {
   "cell_type": "markdown",
   "id": "1fac5441",
   "metadata": {
    "hidden": true
   },
   "source": [
    "### 2.2 Final hypotesis"
   ]
  },
  {
   "cell_type": "markdown",
   "id": "dfc5a8a1",
   "metadata": {
    "hidden": true
   },
   "source": [
    "**1.** Lojas com maior sortimento deveriam vender mais.\n",
    "\n",
    "**2.** Lojas com competidores mais próximos deveriam vender menos.\n",
    "\n",
    "**3.** Lojas com competidores a mais tempo deveriam vender mais.\n",
    "\n",
    "**4.** Lojas com promoções ativa por mais tempo deveriam vender mais.\n",
    "\n",
    "**5.** Lojas com mais dia de promoção deveriam vender mais.\n",
    "\n",
    "**6.** Lojas com mais promoções consecutivas deveriam vender mais.\n",
    "\n",
    "**7.** Lojas abertas durante o feriado de natal deveriam vender mais.\n",
    "\n",
    "**8.** Lojas deveriam vender mais ao longo dos anos.\n",
    "\n",
    "**9.** Lojas devriam vender mais no segundo semestre do ano.\n",
    "\n",
    "**10.** Lojas deveriam vender mais depois do dia 10 de cada mês.\n",
    "\n",
    "**11.** Lojas deveriam vender menos aos finais de semana.\n",
    "\n",
    "**12.** Lojas deveriam vender menos durante os feriados escolares."
   ]
  },
  {
   "cell_type": "markdown",
   "id": "dba4fa57",
   "metadata": {
    "hidden": true
   },
   "source": [
    "### 2.3 Feature engineering"
   ]
  },
  {
   "cell_type": "code",
   "execution_count": 18,
   "id": "1db58507",
   "metadata": {
    "ExecuteTime": {
     "end_time": "2022-03-18T12:36:33.672258Z",
     "start_time": "2022-03-18T12:35:29.835895Z"
    },
    "hidden": true
   },
   "outputs": [
    {
     "name": "stderr",
     "output_type": "stream",
     "text": [
      "C:\\Users\\gabriel.pinho\\AppData\\Local\\Temp\\ipykernel_5864\\548257573.py:14: FutureWarning: Series.dt.weekofyear and Series.dt.week have been deprecated. Please use Series.dt.isocalendar().week instead.\n",
      "  df2['weak_of_year'] = df2['date'].dt.weekofyear\n"
     ]
    }
   ],
   "source": [
    "#year\n",
    "df2['year'] = df2['date'].dt.year\n",
    "\n",
    "#month\n",
    "\n",
    "df2['month'] = df2['date'].dt.month\n",
    "\n",
    "#day\n",
    "\n",
    "df2['day'] = df2['date'].dt.day\n",
    "\n",
    "#week of year\n",
    "\n",
    "df2['weak_of_year'] = df2['date'].dt.weekofyear\n",
    "\n",
    "#year week\n",
    "\n",
    "df2['year_week'] = df2['date'].dt.strftime('%Y-%W')\n",
    "\n",
    "#competition since\n",
    "\n",
    "df2['competition_since']=df2.apply(lambda x: datetime.datetime(year=x['competition_open_since_year'],month=x['competition_open_since_month'],day=1),axis=1)\n",
    "df2['competition_time_month'] = ( ( df2['date'] - df2['competition_since'] ) /30 ).apply( lambda x: x.days ).astype( np.int64 )\n",
    "\n",
    "#promo since\n",
    "\n",
    "df2['promo_since'] = df2['promo2_since_year'].astype(str) + '-' + df2['promo2_since_week'].astype(str)\n",
    "\n",
    "df2['promo_since'] = df2['promo_since'].apply( lambda x:datetime.datetime.strptime( x + '-1', '%Y-%W-%w' ) - datetime.timedelta( days = 7 ) )\n",
    "\n",
    "df2['promo_time_week'] = ( ( df2['date'] - df2['promo_since'] ) / 7).apply(lambda x: x.days).astype(np.int64)\n",
    "\n",
    "#assortment\n",
    "\n",
    "df2['assortment'] = df2['assortment'].apply( lambda x: 'basic' if x == 'a' else 'extra' if x == 'b' else 'extended' )\n",
    "\n",
    "#state holiday\n",
    "\n",
    "df2['state_holiday'] = df2['state_holiday'].apply( lambda x: 'public holiday' if x == 'a' else 'Easter holiday' if x == 'b' else 'Christmas' if x == 'c' else 'regular day')"
   ]
  },
  {
   "cell_type": "markdown",
   "id": "85629e65",
   "metadata": {},
   "source": [
    "## 3.0 Filtering variables"
   ]
  },
  {
   "cell_type": "code",
   "execution_count": 19,
   "id": "9327994b",
   "metadata": {
    "ExecuteTime": {
     "end_time": "2022-03-18T13:07:05.130666Z",
     "start_time": "2022-03-18T13:07:04.698670Z"
    }
   },
   "outputs": [],
   "source": [
    "df3 = df2.copy()"
   ]
  },
  {
   "cell_type": "markdown",
   "id": "0cdb932e",
   "metadata": {},
   "source": [
    "### 3.1 Filtering rows"
   ]
  },
  {
   "cell_type": "code",
   "execution_count": 20,
   "id": "fa2ba7eb",
   "metadata": {
    "ExecuteTime": {
     "end_time": "2022-03-18T13:12:06.201435Z",
     "start_time": "2022-03-18T13:12:05.946644Z"
    }
   },
   "outputs": [],
   "source": [
    "df3 = df3[(df3['open'] != 0) & (df3['sales'] > 0)]"
   ]
  },
  {
   "cell_type": "markdown",
   "id": "fc5d7e66",
   "metadata": {},
   "source": [
    "### 3.2 Selection columns"
   ]
  },
  {
   "cell_type": "code",
   "execution_count": 21,
   "id": "f8bb149e",
   "metadata": {
    "ExecuteTime": {
     "end_time": "2022-03-18T13:13:41.956470Z",
     "start_time": "2022-03-18T13:13:41.797298Z"
    }
   },
   "outputs": [],
   "source": [
    "cols_drop = ['customers','open','promo_interval','month_map']\n",
    "\n",
    "df3 = df3.drop(cols_drop,axis=1)"
   ]
  },
  {
   "cell_type": "code",
   "execution_count": 22,
   "id": "8c9232e4",
   "metadata": {
    "ExecuteTime": {
     "end_time": "2022-03-18T13:13:43.688764Z",
     "start_time": "2022-03-18T13:13:43.676765Z"
    }
   },
   "outputs": [
    {
     "data": {
      "text/plain": [
       "Index(['store', 'day_of_week', 'date', 'sales', 'promo', 'state_holiday',\n",
       "       'school_holiday', 'store_type', 'assortment', 'competition_distance',\n",
       "       'competition_open_since_month', 'competition_open_since_year', 'promo2',\n",
       "       'promo2_since_week', 'promo2_since_year', 'is_promo', 'year', 'month',\n",
       "       'day', 'weak_of_year', 'year_week', 'competition_since',\n",
       "       'competition_time_month', 'promo_since', 'promo_time_week'],\n",
       "      dtype='object')"
      ]
     },
     "execution_count": 22,
     "metadata": {},
     "output_type": "execute_result"
    }
   ],
   "source": [
    "df3.columns"
   ]
  },
  {
   "cell_type": "code",
   "execution_count": null,
   "id": "478fb05b",
   "metadata": {},
   "outputs": [],
   "source": []
  },
  {
   "cell_type": "code",
   "execution_count": null,
   "id": "28b414ae",
   "metadata": {},
   "outputs": [],
   "source": []
  }
 ],
 "metadata": {
  "kernelspec": {
   "display_name": "Python 3 (ipykernel)",
   "language": "python",
   "name": "python3"
  },
  "language_info": {
   "codemirror_mode": {
    "name": "ipython",
    "version": 3
   },
   "file_extension": ".py",
   "mimetype": "text/x-python",
   "name": "python",
   "nbconvert_exporter": "python",
   "pygments_lexer": "ipython3",
   "version": "3.9.7"
  }
 },
 "nbformat": 4,
 "nbformat_minor": 5
}
